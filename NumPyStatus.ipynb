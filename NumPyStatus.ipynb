{
 "cells": [
  {
   "cell_type": "markdown",
   "metadata": {
    "slideshow": {
     "slide_type": "slide"
    }
   },
   "source": [
    "# <div style=\"text-align: center\">NumPy Snapshot</div>\n",
    "# <div style=\"text-align: center\">Aug 2018</div>"
   ]
  },
  {
   "cell_type": "markdown",
   "metadata": {
    "slideshow": {
     "slide_type": "slide"
    }
   },
   "source": [
    "## What Is NumPy?\n",
    "\n",
    "NumPy is the fundamental package needed for scientific computing with Python. It provides:\n",
    "- A powerful N-dimensional array object\n",
    "- Tools for integrating C/C++ and Fortran code\n",
    "- Useful linear algebra, Fourier transform, and random number capabilities\n",
    "\n",
    "More information may be found at\n",
    "Website (including documentation): https://www.numpy.org\n",
    "\n",
    "Mailing list: https://mail.python.org/mailman/listinfo/numpy-discussion\n",
    "\n",
    "Source: https://github.com/numpy/numpy"
   ]
  },
  {
   "cell_type": "markdown",
   "metadata": {
    "slideshow": {
     "slide_type": "slide"
    }
   },
   "source": [
    "## The NumPy Release Cycle\n",
    "\n",
    "NumPy has an effective release cycle of about six months. Each release is followed by three to five bug fix micro releases as needed. The last three minor releases were:\n",
    "\n",
    "NumPy 1.13.0 -- 2017-06-07\n",
    "\n",
    "NumPy 1.14.0 -- 2018-03-12\n",
    "\n",
    "NumPy 1.15.0 -- 2018-07-25\n",
    "\n",
    "There have been proposals for a faster release cycle, but they never seem to work out."
   ]
  },
  {
   "cell_type": "markdown",
   "metadata": {
    "slideshow": {
     "slide_type": "slide"
    }
   },
   "source": [
    "## NumPy Highlights From Last Three Releases\n",
    "\n",
    "There have been many bug fixes and improvements to NumPy. Some of the notable highlights have been:\n",
    "\n",
    "- Operations like a + b + c will reuse temporaries on some platforms\n",
    "- Inplace operations check if inputs overlap outputs and create temporaries\n",
    "- The text io functions now handle files with any Python supported encoding.\n",
    "- There are major improvements to printing of NumPy arrays and scalars.\n",
    "- The new `__array_ufunc__` protocol allows overriding ufuncs.\n",
    "- The new np.block function for creating blocked arrays.\n",
    "- The np.einsum function uses BLAS when possible\n",
    "- NumPy switched to pytest for testing."
   ]
  },
  {
   "cell_type": "markdown",
   "metadata": {
    "slideshow": {
     "slide_type": "slide"
    }
   },
   "source": [
    "## Current Status\n",
    "\n",
    "- Tyler Reddy and Matti Picus are now working full-time at BIDS on NumPy\n",
    "- [Roadmap](http://www.numpy.org/neps) to complement the NEP process\n",
    "- NEP-0014: The NumPy 1.16 release will be the last to support Python 2.7. That release will be maintained through the end of 2019.\n",
    "- NEP-0018: Support for an `__array_function__` protocol to facilitate overriding a larger class of numpy functions than allowed by `__array_ufunc__`\n",
    "- NEP-0019: Support for new random number generators and algorithms. This will require dropping the guarantee on repeatable random number streams, but the old routines will be maintained for backward compatibility.\n",
    "- NEP-0021: Advanced indexing syntax"
   ]
  },
  {
   "cell_type": "markdown",
   "metadata": {
    "slideshow": {
     "slide_type": "subslide"
    }
   },
   "source": [
    "## Zoom in on the Full-Time Developers\n",
    "\n",
    "- Employed through a Moore Foundation / Sloan Foundation grant\n",
    "- Grant is administered through [BIDS](bids.berkeley.edu)\n",
    "- I am working remotely (50%), Tyler is in Berkeley\n",
    "- Our work is prioritized by the community and the NumPy Steering Council\n",
    "  - Monthly \"Office Hours\"\n",
    "  - Roadmap\n",
    "  - Sprints and Meetups\n",
    "- Everything is on-line and transparent"
   ]
  },
  {
   "cell_type": "markdown",
   "metadata": {
    "slideshow": {
     "slide_type": "slide"
    }
   },
   "source": [
    "## Future Plans\n",
    "\n",
    "- Extensible user-defined dtypes\n",
    "- Grow the community of people working on NumPy\n",
    "- Standardize missing values\n",
    "- Typing stubs for type annotation systems\n",
    "- Establish baseline benchmarks"
   ]
  },
  {
   "cell_type": "markdown",
   "metadata": {},
   "source": [
    "## Getting involved\n",
    "\n",
    "Help us grow the community, both in absolute numbers and to make it more diverse. Please reach out if you see a way to get more people involved:\n",
    "\n",
    "- Educational materials & outreach\n",
    "- Employer-sponsored time to work on NumPy\n",
    "- Adopt a feature: masked arrays, c-api refcount documentation, configuration reporting for bug reports, switch out linalg backends, ...\n",
    "\n",
    "Sprint on Saturday, corridor discussions during the conference"
   ]
  },
  {
   "cell_type": "code",
   "execution_count": null,
   "metadata": {},
   "outputs": [],
   "source": []
  }
 ],
 "metadata": {
  "celltoolbar": "Slideshow",
  "kernelspec": {
   "display_name": "Python 3",
   "language": "python",
   "name": "python3"
  },
  "language_info": {
   "codemirror_mode": {
    "name": "ipython",
    "version": 3
   },
   "file_extension": ".py",
   "mimetype": "text/x-python",
   "name": "python",
   "nbconvert_exporter": "python",
   "pygments_lexer": "ipython3",
   "version": "3.6.5"
  }
 },
 "nbformat": 4,
 "nbformat_minor": 2
}
