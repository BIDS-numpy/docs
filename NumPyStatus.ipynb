{
 "cells": [
  {
   "cell_type": "markdown",
   "metadata": {
    "slideshow": {
     "slide_type": "slide"
    }
   },
   "source": [
    "# <div style=\"text-align: center\">NumPy Snapshot</div>\n",
    "# <div style=\"text-align: center\">Aug 2018</div>\n",
    "\n",
    "https://github.com/BIDS-numpy/docs/blob/master/NumPyStatus.ipynb"
   ]
  },
  {
   "cell_type": "markdown",
   "metadata": {
    "slideshow": {
     "slide_type": "slide"
    }
   },
   "source": [
    "## What Is NumPy?\n",
    "\n",
    "NumPy is the fundamental package needed for scientific computing with Python. It provides:\n",
    "- A powerful N-dimensional array object\n",
    "- Tools for integrating C/C++ and Fortran code\n",
    "- Useful linear algebra, Fourier transform, and random number capabilities\n",
    "\n",
    "More information may be found at\n",
    "Website (including documentation): https://www.numpy.org\n",
    "\n",
    "Mailing list: https://mail.python.org/mailman/listinfo/numpy-discussion\n",
    "\n",
    "Source: https://github.com/numpy/numpy"
   ]
  },
  {
   "cell_type": "markdown",
   "metadata": {
    "slideshow": {
     "slide_type": "slide"
    }
   },
   "source": [
    "## NumPy Release Cycle\n",
    "\n",
    "NumPy has an effective release cycle of about six months. Each release is followed by three to five bug fix micro releases as needed. \n",
    "\n",
    "The last three minor releases:\n",
    "\n",
    "- NumPy 1.13.0 -- 2017-06-07 (14 months ago)\n",
    "\n",
    "- NumPy 1.14.0 -- 2018-03-12 (5 months ago)\n",
    "\n",
    "- NumPy 1.15.0 -- 2018-07-25 (1 month ago)\n",
    "\n",
    "There have been proposals for a faster release cycle, but they never seem to work out."
   ]
  },
  {
   "cell_type": "markdown",
   "metadata": {
    "slideshow": {
     "slide_type": "slide"
    }
   },
   "source": [
    "## NumPy Highlights From Last Three Releases\n",
    "\n",
    "There have been many bug fixes and improvements to NumPy. Notable highlights:\n",
    "\n",
    "- Operations like `a + b + c` reuse temporaries on some platforms\n",
    "- Inplace operations check if inputs overlap outputs and create temporaries\n",
    "- Text IO functions now handle files with any Python supported unicode encoding\n",
    "- Major improvements to printing of NumPy arrays and scalars\n",
    "- `__array_ufunc__` protocol allows overriding ufuncs\n",
    "- `np.block()` for creating blocked arrays\n",
    "- `np.einsum()` uses BLAS when possible\n",
    "- Switch to pytest"
   ]
  },
  {
   "cell_type": "markdown",
   "metadata": {
    "slideshow": {
     "slide_type": "slide"
    }
   },
   "source": [
    "## Current Status\n",
    "\n",
    "- Tyler Reddy and Matti Picus are now working full-time at BIDS on NumPy\n",
    "- [Roadmap](http://www.numpy.org/neps) to complement the NEP process\n",
    "- NEP-0014: The NumPy 1.16 release will be the last to support Python 2.7. That release will be maintained through the end of 2019.\n",
    "- NEP-0018: Support for an `__array_function__` protocol to facilitate overriding a larger class of functions than allowed by `__array_ufunc__`\n",
    "- NEP-0019: Support for new random number generators and algorithms. This requires dropping the guarantee on repeatable random number streams, but the old routines will be maintained for backward compatibility.\n",
    "- NEP-0021: Advanced indexing syntax"
   ]
  },
  {
   "cell_type": "markdown",
   "metadata": {
    "slideshow": {
     "slide_type": "subslide"
    }
   },
   "source": [
    "## Zoom in on the Full-Time Developers\n",
    "\n",
    "- Employed through a Moore Foundation / Sloan Foundation grant\n",
    "- Grant is administered through [BIDS](bids.berkeley.edu)\n",
    "- I am working remotely (50%), Tyler is in Berkeley\n",
    "- Our work is prioritized by the community and the NumPy Steering Council\n",
    "  - Monthly \"Office Hours\"\n",
    "  - Roadmap\n",
    "  - Sprints and Meetups\n",
    "- Everything is [on-line](https://github.com/numpy/numpy/pulls) and [transparent](https://trello.com/b/Azg4fYZH/numpy-at-bids)"
   ]
  },
  {
   "cell_type": "markdown",
   "metadata": {
    "slideshow": {
     "slide_type": "slide"
    }
   },
   "source": [
    "## Future Plans\n",
    "\n",
    "- Extensible user-defined dtypes\n",
    "- Grow the community of people working on NumPy\n",
    "- Standardize missing values\n",
    "- Typing stubs for type annotation systems\n",
    "- Establish baseline benchmarks"
   ]
  },
  {
   "cell_type": "markdown",
   "metadata": {
    "slideshow": {
     "slide_type": "slide"
    }
   },
   "source": [
    "## What is the Vision?\n",
    "\n",
    "NumPy is both an implementation and an API. Other packages do both, but sometimes it can lead to fragmentation"
   ]
  },
  {
   "cell_type": "markdown",
   "metadata": {
    "slideshow": {
     "slide_type": "subslide"
    }
   },
   "source": [
    "### For instance matplotlib\n",
    "![Visualizon Landscape](visualization_landscape.jpg)\n",
    "(image taken from [Jake Vanderplass's Pycon Presentation](https://speakerdeck.com/jakevdp/pythons-visualization-landscape-pycon-2017)"
   ]
  },
  {
   "cell_type": "markdown",
   "metadata": {
    "slideshow": {
     "slide_type": "slide"
    }
   },
   "source": [
    "## What is the Vision? (2)\n",
    "\n",
    "\n",
    "NumPy landscape is already showing signs of cracking\n",
    "\n",
    "- [Dask](https://dask.pydata.org/en/latest) reimplements much of NumPy for building graphs of operations, then executing them on distributed instances\n",
    "- [Tensorflow](https://www.tensorflow.org/), [PyTorch](https://pytorch.org/), and [CuPy](https://docs-cupy.chainer.org/en/stable/) reimplements much of NumPy on the GPU\n",
    "- [Pandas](), [xarray]() extend the concept of a ndarray to a dataframe\n",
    "\n",
    "\n",
    "### Protocols\n",
    "\n",
    "- `__array_ufunc__` already implemented\n",
    "- `__array_function__` on the way\n",
    "- Similar work will be done for dtypes\n",
    "\n",
    "Hopefully will lead to a situation where python users can use ndarray types and not really care about the underlying implementation, much as there are multiple backends for matplotlib."
   ]
  },
  {
   "cell_type": "markdown",
   "metadata": {
    "slideshow": {
     "slide_type": "slide"
    }
   },
   "source": [
    "## Getting Involved\n",
    "\n",
    "Help us grow the community, both in absolute numbers and to make it more diverse. Please reach out if you see a way to get more people involved:\n",
    "\n",
    "- Educational materials & outreach\n",
    "- Employer-sponsored time to work on NumPy\n",
    "- Adopt a feature: masked arrays, c-api refcount documentation, configuration reporting for bug reports, switch out linalg backends, ...\n",
    "\n",
    "Sprint on Saturday, corridor discussions during the conference"
   ]
  },
  {
   "cell_type": "code",
   "execution_count": null,
   "metadata": {},
   "outputs": [],
   "source": []
  }
 ],
 "metadata": {
  "celltoolbar": "Slideshow",
  "kernelspec": {
   "display_name": "Python 3",
   "language": "python",
   "name": "python3"
  },
  "language_info": {
   "codemirror_mode": {
    "name": "ipython",
    "version": 3
   },
   "file_extension": ".py",
   "mimetype": "text/x-python",
   "name": "python",
   "nbconvert_exporter": "python",
   "pygments_lexer": "ipython3",
   "version": "3.6.5"
  }
 },
 "nbformat": 4,
 "nbformat_minor": 2
}
